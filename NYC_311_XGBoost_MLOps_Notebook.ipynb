{
 "cells": [
  {
   "cell_type": "markdown",
   "metadata": {},
   "source": [
    "# NYC 311 Service Requests: XGBoost\n",
    "\n",
    "This notebook builds an end-to-end classification model using NYC 311 data to predict whether a complaint will be resolved within 7 days. It includes feature engineering, model training, evaluation, drift detection, and SHAP explainability. Data Source is found at: https://data.cityofnewyork.us/Social-Services/311-Service-Requests-from-2010-to-Present/erm2-nwe9/about_data\n"
   ]
  },
  {
   "cell_type": "code",
   "execution_count": 10,
   "metadata": {},
   "outputs": [],
   "source": [
    "# Imports\n",
    "import pandas as pd\n",
    "import numpy as np\n",
    "import xgboost as xgb\n",
    "from sklearn.model_selection import train_test_split\n",
    "from sklearn.metrics import roc_auc_score\n",
    "import shap\n",
    "import matplotlib.pyplot as plt"
   ]
  },
  {
   "cell_type": "markdown",
   "metadata": {},
   "source": [
    "## Load and Prepare Data"
   ]
  },
  {
   "cell_type": "code",
   "execution_count": 11,
   "metadata": {},
   "outputs": [],
   "source": [
    "# FULL DATASET DOWNLOADED AS CSV FROM THE WEBPAGE: 311_Service_Requests_from_2010_to_Present.csv\n",
    "# This dataset contains differences in schema names with regards to csv's downloaded from API. \n",
    "# For example, Created Date instead of created_date.\n",
    "# We are using the API version\n",
    "\n",
    "# # Load your dataset - THIS IS FOR THE DATASET REQUESTED VIA API\n",
    "df = pd.read_csv('311_Service_Requests_2023.csv', parse_dates=['created_date', 'closed_date'], low_memory=False)\n",
    "\n",
    "df = df.dropna(subset=['created_date', 'closed_date'])\n",
    "df['resolution_time'] = (df['closed_date'] - df['created_date']).dt.days\n",
    "df['resolved_within_7days'] = (df['resolution_time'] <= 7).astype(int)\n"
   ]
  },
  {
   "cell_type": "code",
   "execution_count": 12,
   "metadata": {},
   "outputs": [
    {
     "data": {
      "application/vnd.microsoft.datawrangler.viewer.v0+json": {
       "columns": [
        {
         "name": "index",
         "rawType": "int64",
         "type": "integer"
        },
        {
         "name": "complaint_type",
         "rawType": "object",
         "type": "string"
        },
        {
         "name": "borough",
         "rawType": "object",
         "type": "string"
        },
        {
         "name": "agency",
         "rawType": "object",
         "type": "string"
        },
        {
         "name": "incident_zip",
         "rawType": "float64",
         "type": "float"
        },
        {
         "name": "resolved_within_7days",
         "rawType": "int64",
         "type": "integer"
        },
        {
         "name": "created_hour",
         "rawType": "int32",
         "type": "integer"
        },
        {
         "name": "created_weekday",
         "rawType": "int32",
         "type": "integer"
        }
       ],
       "ref": "45def3b8-c294-476f-b31d-94ad4663e0c4",
       "rows": [
        [
         "0",
         "Noise - Street/Sidewalk",
         "QUEENS",
         "NYPD",
         "11375.0",
         "1",
         "23",
         "6"
        ],
        [
         "1",
         "Noise - Helicopter",
         "MANHATTAN",
         "EDC",
         "10023.0",
         "0",
         "23",
         "6"
        ],
        [
         "2",
         "Blocked Driveway",
         "QUEENS",
         "NYPD",
         "11355.0",
         "1",
         "23",
         "6"
        ],
        [
         "3",
         "Noise - Street/Sidewalk",
         "QUEENS",
         "NYPD",
         "11374.0",
         "1",
         "23",
         "6"
        ],
        [
         "4",
         "Noise - Street/Sidewalk",
         "BROOKLYN",
         "NYPD",
         "11232.0",
         "1",
         "23",
         "6"
        ]
       ],
       "shape": {
        "columns": 7,
        "rows": 5
       }
      },
      "text/html": [
       "<div>\n",
       "<style scoped>\n",
       "    .dataframe tbody tr th:only-of-type {\n",
       "        vertical-align: middle;\n",
       "    }\n",
       "\n",
       "    .dataframe tbody tr th {\n",
       "        vertical-align: top;\n",
       "    }\n",
       "\n",
       "    .dataframe thead th {\n",
       "        text-align: right;\n",
       "    }\n",
       "</style>\n",
       "<table border=\"1\" class=\"dataframe\">\n",
       "  <thead>\n",
       "    <tr style=\"text-align: right;\">\n",
       "      <th></th>\n",
       "      <th>complaint_type</th>\n",
       "      <th>borough</th>\n",
       "      <th>agency</th>\n",
       "      <th>incident_zip</th>\n",
       "      <th>resolved_within_7days</th>\n",
       "      <th>created_hour</th>\n",
       "      <th>created_weekday</th>\n",
       "    </tr>\n",
       "  </thead>\n",
       "  <tbody>\n",
       "    <tr>\n",
       "      <th>0</th>\n",
       "      <td>Noise - Street/Sidewalk</td>\n",
       "      <td>QUEENS</td>\n",
       "      <td>NYPD</td>\n",
       "      <td>11375.0</td>\n",
       "      <td>1</td>\n",
       "      <td>23</td>\n",
       "      <td>6</td>\n",
       "    </tr>\n",
       "    <tr>\n",
       "      <th>1</th>\n",
       "      <td>Noise - Helicopter</td>\n",
       "      <td>MANHATTAN</td>\n",
       "      <td>EDC</td>\n",
       "      <td>10023.0</td>\n",
       "      <td>0</td>\n",
       "      <td>23</td>\n",
       "      <td>6</td>\n",
       "    </tr>\n",
       "    <tr>\n",
       "      <th>2</th>\n",
       "      <td>Blocked Driveway</td>\n",
       "      <td>QUEENS</td>\n",
       "      <td>NYPD</td>\n",
       "      <td>11355.0</td>\n",
       "      <td>1</td>\n",
       "      <td>23</td>\n",
       "      <td>6</td>\n",
       "    </tr>\n",
       "    <tr>\n",
       "      <th>3</th>\n",
       "      <td>Noise - Street/Sidewalk</td>\n",
       "      <td>QUEENS</td>\n",
       "      <td>NYPD</td>\n",
       "      <td>11374.0</td>\n",
       "      <td>1</td>\n",
       "      <td>23</td>\n",
       "      <td>6</td>\n",
       "    </tr>\n",
       "    <tr>\n",
       "      <th>4</th>\n",
       "      <td>Noise - Street/Sidewalk</td>\n",
       "      <td>BROOKLYN</td>\n",
       "      <td>NYPD</td>\n",
       "      <td>11232.0</td>\n",
       "      <td>1</td>\n",
       "      <td>23</td>\n",
       "      <td>6</td>\n",
       "    </tr>\n",
       "  </tbody>\n",
       "</table>\n",
       "</div>"
      ],
      "text/plain": [
       "            complaint_type    borough agency  incident_zip  \\\n",
       "0  Noise - Street/Sidewalk     QUEENS   NYPD       11375.0   \n",
       "1       Noise - Helicopter  MANHATTAN    EDC       10023.0   \n",
       "2         Blocked Driveway     QUEENS   NYPD       11355.0   \n",
       "3  Noise - Street/Sidewalk     QUEENS   NYPD       11374.0   \n",
       "4  Noise - Street/Sidewalk   BROOKLYN   NYPD       11232.0   \n",
       "\n",
       "   resolved_within_7days  created_hour  created_weekday  \n",
       "0                      1            23                6  \n",
       "1                      0            23                6  \n",
       "2                      1            23                6  \n",
       "3                      1            23                6  \n",
       "4                      1            23                6  "
      ]
     },
     "execution_count": 12,
     "metadata": {},
     "output_type": "execute_result"
    }
   ],
   "source": [
    "# Feature selection & preparation\n",
    "features = ['complaint_type', 'borough', 'agency', 'incident_zip', 'created_date'] # 'Zip Code', 'Agency', 'Created Date']\n",
    "df = df[features + ['resolved_within_7days']].dropna()\n",
    "\n",
    "df['created_hour'] = df['created_date'].dt.hour\n",
    "df['created_weekday'] = df['created_date'].dt.weekday\n",
    "\n",
    "# Drop original date to prevent leakage\n",
    "df = df.drop(columns=['created_date'])\n",
    "\n",
    "df.head()"
   ]
  },
  {
   "cell_type": "code",
   "execution_count": 13,
   "id": "2289afb8",
   "metadata": {},
   "outputs": [],
   "source": [
    "# Encode categoricals\n",
    "for col in ['complaint_type', 'borough', 'agency', 'incident_zip']: # 'Zip Code']:\n",
    "    df[col] = df[col].astype('category').cat.codes\n",
    "\n",
    "X = df.drop(columns=['resolved_within_7days'])\n",
    "y = df['resolved_within_7days']"
   ]
  },
  {
   "cell_type": "markdown",
   "metadata": {},
   "source": [
    "## Train XGBoost Model"
   ]
  },
  {
   "cell_type": "code",
   "execution_count": 14,
   "metadata": {},
   "outputs": [
    {
     "name": "stdout",
     "output_type": "stream",
     "text": [
      "[0]\ttest-auc:0.97321\n",
      "[1]\ttest-auc:0.97498\n",
      "[2]\ttest-auc:0.97582\n",
      "[3]\ttest-auc:0.97767\n",
      "[4]\ttest-auc:0.97795\n",
      "[5]\ttest-auc:0.97845\n",
      "[6]\ttest-auc:0.97900\n"
     ]
    },
    {
     "name": "stdout",
     "output_type": "stream",
     "text": [
      "[7]\ttest-auc:0.97937\n",
      "[8]\ttest-auc:0.97916\n",
      "[9]\ttest-auc:0.97916\n",
      "[10]\ttest-auc:0.97998\n",
      "[11]\ttest-auc:0.98005\n",
      "[12]\ttest-auc:0.98030\n",
      "[13]\ttest-auc:0.98050\n",
      "[14]\ttest-auc:0.98054\n",
      "[15]\ttest-auc:0.98044\n",
      "[16]\ttest-auc:0.98043\n",
      "[17]\ttest-auc:0.98066\n",
      "[18]\ttest-auc:0.98070\n",
      "[19]\ttest-auc:0.98081\n",
      "[20]\ttest-auc:0.98089\n",
      "[21]\ttest-auc:0.98095\n",
      "[22]\ttest-auc:0.98098\n",
      "[23]\ttest-auc:0.98137\n",
      "[24]\ttest-auc:0.98142\n",
      "[25]\ttest-auc:0.98124\n",
      "[26]\ttest-auc:0.98125\n",
      "[27]\ttest-auc:0.98122\n",
      "[28]\ttest-auc:0.98093\n",
      "[29]\ttest-auc:0.98120\n",
      "[30]\ttest-auc:0.98115\n",
      "[31]\ttest-auc:0.98133\n",
      "[32]\ttest-auc:0.98125\n",
      "[33]\ttest-auc:0.98117\n",
      "Test ROC AUC: 0.9812\n"
     ]
    }
   ],
   "source": [
    "X_train, X_test, y_train, y_test = train_test_split(X, y, stratify=y, test_size=0.2, random_state=42)\n",
    "dtrain = xgb.DMatrix(X_train, label=y_train)\n",
    "dtest = xgb.DMatrix(X_test, label=y_test)\n",
    "\n",
    "params = {\n",
    "    'objective': 'binary:logistic',\n",
    "    'eval_metric': 'auc',\n",
    "    'seed': 42\n",
    "}\n",
    "\n",
    "model = xgb.train(params, dtrain, num_boost_round=100, evals=[(dtest, 'test')], early_stopping_rounds=10)\n",
    "y_pred = model.predict(dtest)\n",
    "auc = roc_auc_score(y_test, y_pred)\n",
    "print(f'Test ROC AUC: {auc:.4f}')"
   ]
  },
  {
   "cell_type": "markdown",
   "metadata": {},
   "source": [
    "## Population Stability Index (PSI) for Drift Detection"
   ]
  },
  {
   "cell_type": "code",
   "execution_count": 15,
   "metadata": {},
   "outputs": [
    {
     "name": "stdout",
     "output_type": "stream",
     "text": [
      "PSI for Complaint Type: 0.0056\n"
     ]
    }
   ],
   "source": [
    "def psi(expected, actual, buckets=10):\n",
    "    breakpoints = np.percentile(expected, np.linspace(0, 100, buckets + 1))\n",
    "    expected_counts = np.histogram(expected, bins=breakpoints)[0] / len(expected)\n",
    "    actual_counts = np.histogram(actual, bins=breakpoints)[0] / len(actual)\n",
    "\n",
    "    psi_value = np.sum((expected_counts - actual_counts) * np.log((expected_counts + 1e-4) / (actual_counts + 1e-4)))\n",
    "    return psi_value\n",
    "\n",
    "# Example: Check drift for Complaint Type\n",
    "psi_value = psi(X_train['complaint_type'], X_test['complaint_type'])\n",
    "print(f'PSI for Complaint Type: {psi_value:.4f}')"
   ]
  },
  {
   "cell_type": "markdown",
   "metadata": {},
   "source": [
    "## SHAP Explainability"
   ]
  },
  {
   "cell_type": "code",
   "execution_count": 16,
   "metadata": {},
   "outputs": [
    {
     "data": {
      "image/png": "[encoded data removed]",
      "text/plain": [
       "<Figure size 800x390 with 2 Axes>"
      ]
     },
     "metadata": {},
     "output_type": "display_data"
    }
   ],
   "source": [
    "explainer = shap.TreeExplainer(model)\n",
    "shap_values = explainer.shap_values(X_test)\n",
    "shap.summary_plot(shap_values, X_test)"
   ]
  }
 ],
 "metadata": {
  "kernelspec": {
   "display_name": ".env",
   "language": "python",
   "name": "python3"
  },
  "language_info": {
   "codemirror_mode": {
    "name": "ipython",
    "version": 3
   },
   "file_extension": ".py",
   "mimetype": "text/x-python",
   "name": "python",
   "nbconvert_exporter": "python",
   "pygments_lexer": "ipython3",
   "version": "3.10.4"
  }
 },
 "nbformat": 4,
 "nbformat_minor": 5
}
